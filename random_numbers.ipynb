{
 "cells": [
  {
   "cell_type": "code",
   "execution_count": 37,
   "id": "d14d08aa",
   "metadata": {},
   "outputs": [],
   "source": [
    "#import random module\n",
    "import random"
   ]
  },
  {
   "cell_type": "code",
   "execution_count": 38,
   "id": "a2efc0e7",
   "metadata": {},
   "outputs": [
    {
     "data": {
      "text/plain": [
       "-51"
      ]
     },
     "execution_count": 38,
     "metadata": {},
     "output_type": "execute_result"
    }
   ],
   "source": [
    "#generate random integer\n",
    "random.randint(-90,90)"
   ]
  },
  {
   "cell_type": "code",
   "execution_count": 39,
   "id": "19c321f3",
   "metadata": {},
   "outputs": [
    {
     "data": {
      "text/plain": [
       "0.57392744920738"
      ]
     },
     "execution_count": 39,
     "metadata": {},
     "output_type": "execute_result"
    }
   ],
   "source": [
    "#single floating point decimal number(0-10)\n",
    "random.random()"
   ]
  },
  {
   "cell_type": "code",
   "execution_count": 40,
   "id": "956ad96e",
   "metadata": {},
   "outputs": [
    {
     "name": "stdout",
     "output_type": "stream",
     "text": [
      "[-73.47248784182224, -20.449553344605622, 34.71463262190667, 75.10083782306728, 49.50835686755164, -27.478090121818237, 50.83704505534418, 43.91448809933085, -43.07982205437416, 79.68790475785556]\n"
     ]
    }
   ],
   "source": [
    "#generate random latitude\n",
    "x = 1\n",
    "latitudes = []\n",
    "while x < 11:\n",
    "    random_lat = random.randint(-90, 89) + random.random()\n",
    "    latitudes.append(random_lat)\n",
    "    x += 1\n",
    "print(latitudes)"
   ]
  },
  {
   "cell_type": "code",
   "execution_count": 41,
   "id": "6c84b4b6",
   "metadata": {},
   "outputs": [
    {
     "data": {
      "text/plain": [
       "-6"
      ]
     },
     "execution_count": 41,
     "metadata": {},
     "output_type": "execute_result"
    }
   ],
   "source": [
    "#randrange function Returns a whole integer between the interval, -90 and 90 \n",
    "#where the step is the difference between each number in the sequence.\n",
    "random.randrange(-90, 90, step=3)"
   ]
  },
  {
   "cell_type": "code",
   "execution_count": 42,
   "id": "ef55b1b4",
   "metadata": {},
   "outputs": [
    {
     "data": {
      "text/plain": [
       "-46.1334448129995"
      ]
     },
     "execution_count": 42,
     "metadata": {},
     "output_type": "execute_result"
    }
   ],
   "source": [
    "#uniform function generate a floating-point decimal number between two given numbers\n",
    "random.uniform(-90, 90)"
   ]
  },
  {
   "cell_type": "code",
   "execution_count": 43,
   "id": "d95c4d4b",
   "metadata": {},
   "outputs": [],
   "source": [
    "# Import the NumPy module.\n",
    "import numpy as np"
   ]
  },
  {
   "cell_type": "code",
   "execution_count": 44,
   "id": "c7032b84",
   "metadata": {},
   "outputs": [
    {
     "data": {
      "text/plain": [
       "3.5109373806836857"
      ]
     },
     "execution_count": 44,
     "metadata": {},
     "output_type": "execute_result"
    }
   ],
   "source": [
    "np.random.uniform(-90.000, 90.000)"
   ]
  },
  {
   "cell_type": "code",
   "execution_count": 45,
   "id": "837b9254",
   "metadata": {},
   "outputs": [
    {
     "data": {
      "text/plain": [
       "array([-46.13044426,  81.52695738, -25.75986208,  20.48849971,\n",
       "        83.19915346, -69.5355808 , -23.3523655 ,  64.56722557,\n",
       "        24.71818535, -57.96057968,  61.12518918,  -1.45496543,\n",
       "       -44.30230722, -13.67021138, -73.08128747,  59.60225717,\n",
       "       -46.9490001 , -76.30495192,  29.1324778 ,   1.76021796,\n",
       "        38.92839669,  83.36247009, -67.69805251, -32.61278065,\n",
       "       -66.75278078,  -2.06020313, -43.17433911,  87.14881427,\n",
       "        45.35070212, -60.09208081,   4.80167845,  42.40795417,\n",
       "       -62.21335605,   5.34563533, -63.66425669, -24.59705591,\n",
       "       -44.8600001 ,  31.11754297, -23.17387647,  47.83304511,\n",
       "        10.30667283,  27.26740349,  68.09263697,  58.81466434,\n",
       "        71.49175555, -27.7855337 ,  -5.52742626,  50.24128976,\n",
       "       -23.97716759, -62.74264224])"
      ]
     },
     "execution_count": 45,
     "metadata": {},
     "output_type": "execute_result"
    }
   ],
   "source": [
    "np.random.uniform(-90.000, 90.000, size=50)"
   ]
  },
  {
   "cell_type": "code",
   "execution_count": 52,
   "id": "67c4c3cc",
   "metadata": {},
   "outputs": [],
   "source": [
    "# Import timeit.\n",
    "import timeit"
   ]
  },
  {
   "cell_type": "code",
   "execution_count": 53,
   "id": "04767e45",
   "metadata": {},
   "outputs": [
    {
     "name": "stdout",
     "output_type": "stream",
     "text": [
      "22.3 µs ± 122 ns per loop (mean ± std. dev. of 7 runs, 10000 loops each)\n"
     ]
    }
   ],
   "source": [
    "%timeit np.random.uniform(-90.000, 90.000, size=1500)"
   ]
  },
  {
   "cell_type": "code",
   "execution_count": 54,
   "id": "9b7d0d57",
   "metadata": {},
   "outputs": [
    {
     "name": "stdout",
     "output_type": "stream",
     "text": [
      "1.16 ms ± 21.8 µs per loop (mean ± std. dev. of 7 runs, 1000 loops each)\n"
     ]
    }
   ],
   "source": [
    "def latitudes(size):\n",
    "    latitudes = []\n",
    "    x = 0\n",
    "    while x < (size):\n",
    "        random_lat = random.randint(-90, 90) + random.random()\n",
    "        latitudes.append(random_lat)\n",
    "        x += 1\n",
    "    return latitudes\n",
    "# Call the function with 1500.\n",
    "%timeit latitudes(1500)"
   ]
  }
 ],
 "metadata": {
  "kernelspec": {
   "display_name": "PythonData",
   "language": "python",
   "name": "pythondata"
  },
  "language_info": {
   "codemirror_mode": {
    "name": "ipython",
    "version": 3
   },
   "file_extension": ".py",
   "mimetype": "text/x-python",
   "name": "python",
   "nbconvert_exporter": "python",
   "pygments_lexer": "ipython3",
   "version": "3.9.13"
  }
 },
 "nbformat": 4,
 "nbformat_minor": 5
}
